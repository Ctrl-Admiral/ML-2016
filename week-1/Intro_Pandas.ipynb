{
 "cells": [
  {
   "cell_type": "code",
   "execution_count": 0,
   "metadata": {
    "collapsed": false
   },
   "outputs": [],
   "source": [
    "import pandas\n",
    "import numpy\n",
    "data = pandas.read_csv('titanic.csv', index_col='PassengerId')\n",
    "print(data)"
   ]
  },
  {
   "cell_type": "code",
   "execution_count": 0,
   "metadata": {
    "collapsed": false
   },
   "outputs": [],
   "source": [
    "# Какое количество мужчин и женщин ехало на корабле?\n",
    "# В качестве ответа приведите два числа через пробел.\n",
    "a1 = data['Sex'].value_counts()\n",
    "print(a1)\n",
    "\n",
    "with open(\"Intro_Pandas.1.txt\", \"w\") as file:\n",
    "    file.write(\"%d %d\" % (a1['male'], a1['female']))"
   ]
  },
  {
   "cell_type": "code",
   "execution_count": 0,
   "metadata": {
    "collapsed": false
   },
   "outputs": [],
   "source": [
    "# Какой части пассажиров удалось выжить?\n",
    "# Посчитайте долю выживших пассажиров.\n",
    "# Ответ приведите в процентах (число в интервале от 0 до 100, знак процента не нужен).\n",
    "survived = data['Survived'].value_counts()\n",
    "survivedPercent = survived[1] * 100 / data['Survived'].count()\n",
    "print(survivedPercent)\n",
    "\n",
    "with open(\"Intro_Pandas.2.txt\", \"w\") as file:\n",
    "    file.write(\"%.2f\" % survivedPercent)"
   ]
  },
  {
   "cell_type": "code",
   "execution_count": 0,
   "metadata": {
    "collapsed": false
   },
   "outputs": [],
   "source": [
    "# Какую долю пассажиры первого класса составляли среди всех пассажиров?\n",
    "# Ответ приведите в процентах (число в интервале от 0 до 100, знак процента не нужен).\n",
    "survived = data['Pclass'].value_counts()\n",
    "survivedPercent = survived[1] * 100 / survived.sum()\n",
    "print(survivedPercent)\n",
    "\n",
    "with open(\"Intro_Pandas.3.txt\", \"w\") as file:\n",
    "    file.write(\"%.2f\" % survivedPercent)"
   ]
  },
  {
   "cell_type": "code",
   "execution_count": 0,
   "metadata": {
    "collapsed": false
   },
   "outputs": [],
   "source": [
    "# Какого возраста были пассажиры?\n",
    "# Посчитайте среднее и медиану возраста пассажиров.\n",
    "# В качестве ответа приведите два числа через пробел.\n",
    "avg = data['Age'].mean()\n",
    "med = data['Age'].median()\n",
    "print(avg, med)\n",
    "\n",
    "with open(\"Intro_Pandas.4.txt\", \"w\") as file:\n",
    "    file.write(\"%.2f %d\" % (avg, med))"
   ]
  },
  {
   "cell_type": "code",
   "execution_count": 0,
   "metadata": {
    "collapsed": false
   },
   "outputs": [],
   "source": [
    "# Коррелируют ли число братьев/сестер с числом родителей/детей?\n",
    "# Посчитайте корреляцию Пирсона между признаками SibSp и Parch.\n",
    "print(data['SibSp'].value_counts())\n",
    "print(data['Parch'].value_counts())\n",
    "cor = data.corr(method='pearson')['SibSp']['Parch']\n",
    "\n",
    "with open(\"Intro_Pandas.5.txt\", \"w\") as file:\n",
    "    file.write(\"%.2f\" % cor)"
   ]
  },
  {
   "cell_type": "code",
   "execution_count": 0,
   "metadata": {
    "collapsed": true
   },
   "outputs": [],
   "source": [
    "# Какое самое популярное женское имя на корабле?\n",
    "# Извлеките из полного имени пассажира (колонка Name) его личное имя (First Name).\n",
    "# Это задание — типичный пример того, с чем сталкивается специалист по анализу данных.\n",
    "# Данные очень разнородные и шумные, но из них требуется извлечь необходимую информацию.\n",
    "# Попробуйте вручную разобрать несколько значений столбца Name и выработать правило для\n",
    "# извлечения имен, а также разделения их на женские и мужские.\n",
    "\n",
    "#print(data['Name'])\n",
    "with open(\"Intro_Pandas.6.txt\", \"w\") as file:\n",
    "    file.write(\"%s\" % data[data['Sex'] == 'female']\n",
    "                          ['Name'].str.split('.').str[1]\n",
    "                                  .str.split('(').str[::-1].str[0]\n",
    "                                  .str.replace(r'$[ ]+', '')\n",
    "                                  .str.split(' ').str[1].mode()[0])\n",
    "\n",
    "#print(data['Name'].str.split(' ').str[1].value_counts())\n",
    "#print('Mr =', data[data['Name'].str.contains('Mr.')]['Name'].str.split(',').str[0].value_counts())\n",
    "#print('Mr =', data[data['Name'].str.contains('Mrs.|Miss.')]['Name'].str.split(',').str[0].value_counts())\n",
    "\n",
    "#print('Mr =', data[data['Name'].str.contains('Mrs.|Miss.') | data['Sex'].str.contains('female')]['Name'].str.split(',').str[0].value_counts())\n",
    "#print('Mr =', data[data['Name'].str.contains('Mrs.|Miss.')]['Name'].str.split(',').str[0].value_counts())\n",
    "#print('Mr =', data[data['Sex'].str.contains('female')]['Name'].str.split(',').str[0].value_counts())"
   ]
  }
 ],
 "metadata": {
  "kernelspec": {
   "display_name": "Python 3",
   "language": "python",
   "name": "python3"
  },
  "language_info": {
   "codemirror_mode": {
    "name": "ipython",
    "version": 3
   },
   "file_extension": ".py",
   "mimetype": "text/x-python",
   "name": "python",
   "nbconvert_exporter": "python",
   "pygments_lexer": "ipython3",
   "version": "3.5.1"
  }
 },
 "nbformat": 4,
 "nbformat_minor": 0
}