{
 "cells": [
  {
   "cell_type": "code",
   "execution_count": 0,
   "metadata": {
    "collapsed": false
   },
   "outputs": [],
   "source": [
    "# Загрузите выборку из файла titanic.csv с помощью пакета Pandas.\n",
    "\n",
    "import numpy as np\n",
    "import pandas\n",
    "from sklearn.tree import DecisionTreeClassifier\n",
    "\n",
    "data = pandas.read_csv('titanic.csv', index_col='PassengerId')"
   ]
  },
  {
   "cell_type": "code",
   "execution_count": 0,
   "metadata": {
    "collapsed": false
   },
   "outputs": [],
   "source": [
    "# Оставьте в выборке четыре признака: класс пассажира (Pclass),\n",
    "# цену билета (Fare), возраст пассажира (Age) и его пол (Sex).\n",
    "    \n",
    "X = data[['Pclass','Fare','Age','Sex','Survived']]\n",
    "print(X.head())"
   ]
  },
  {
   "cell_type": "code",
   "execution_count": 0,
   "metadata": {
    "collapsed": false
   },
   "outputs": [],
   "source": [
    "# Обратите внимание, что признак Sex имеет строковые значения.\n",
    "\n",
    "X['tmp'] = X['Sex'].apply(lambda x: 1 if len(x) == 4 else 0)\n",
    "X.drop('Sex', axis=1, inplace=True)\n",
    "X['Sex'] = X['tmp']\n",
    "X.drop('tmp', axis=1, inplace=True)\n",
    "print(X.head())"
   ]
  },
  {
   "cell_type": "code",
   "execution_count": 0,
   "metadata": {
    "collapsed": false
   },
   "outputs": [],
   "source": [
    "# Выделите целевую переменную — она записана в столбце Survived.\n",
    "\n",
    "y = X['Survived']\n",
    "print(y.head())"
   ]
  },
  {
   "cell_type": "code",
   "execution_count": 0,
   "metadata": {
    "collapsed": false
   },
   "outputs": [],
   "source": [
    "# В данных есть пропущенные значения — например, для некоторых пассажиров неизвестен их возраст.\n",
    "# Такие записи при чтении их в pandas принимают значение nan. Найдите все объекты, у которых\n",
    "# есть пропущенные признаки, и удалите их из выборки.\n",
    "\n",
    "X = X[X['Pclass'].notnull() &\n",
    "      X['Fare'].notnull() &\n",
    "      X['Age'].notnull() & \n",
    "      X['Sex'].notnull() &\n",
    "      X['Survived'].notnull()]\n",
    "print(X.head())"
   ]
  },
  {
   "cell_type": "code",
   "execution_count": 0,
   "metadata": {
    "collapsed": false
   },
   "outputs": [],
   "source": [
    "# REPEAT:\n",
    "# Выделите целевую переменную — она записана в столбце Survived.\n",
    "\n",
    "y = X['Survived']\n",
    "X.drop('Survived', axis=1, inplace=True)\n",
    "print(y.head())"
   ]
  },
  {
   "cell_type": "code",
   "execution_count": 0,
   "metadata": {
    "collapsed": false
   },
   "outputs": [],
   "source": [
    "# Обучите решающее дерево с параметром random_state=241 и остальными параметрами по умолчанию.\n",
    "\n",
    "clf = DecisionTreeClassifier(random_state=241)\n",
    "clf.fit(X, y)"
   ]
  },
  {
   "cell_type": "code",
   "execution_count": 0,
   "metadata": {
    "collapsed": false
   },
   "outputs": [],
   "source": [
    "# Вычислите важности признаков и найдите два признака с наибольшей важностью.\n",
    "# Их названия будут ответами для данной задачи\n",
    "# (в качестве ответа укажите названия признаков через запятую или пробел, порядок не важен).\n",
    "\n",
    "importances = clf.feature_importances_\n",
    "print(importances)\n",
    "\n",
    "with open(\"LearnTree.1.txt\", \"w\") as file:\n",
    "    file.write(\"%.2f %.2f %.2f %.2f\" % (importances[0],importances[1],importances[2],importances[3]))"
   ]
  }
 ],
 "metadata": {
  "kernelspec": {
   "display_name": "Python 3",
   "language": "python",
   "name": "python3"
  },
  "language_info": {
   "codemirror_mode": {
    "name": "ipython",
    "version": 3
   },
   "file_extension": ".py",
   "mimetype": "text/x-python",
   "name": "python",
   "nbconvert_exporter": "python",
   "pygments_lexer": "ipython3",
   "version": "3.5.1"
  }
 },
 "nbformat": 4,
 "nbformat_minor": 0
}