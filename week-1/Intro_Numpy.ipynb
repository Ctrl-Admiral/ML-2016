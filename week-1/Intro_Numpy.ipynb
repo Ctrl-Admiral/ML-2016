{
 "cells": [
  {
   "cell_type": "code",
   "execution_count": 0,
   "metadata": {
    "collapsed": false
   },
   "outputs": [],
   "source": [
    "import numpy\n",
    "A = numpy.random.normal(loc=1, scale=10, size=(1000, 50))\n",
    "print(A)"
   ]
  },
  {
   "cell_type": "code",
   "execution_count": 0,
   "metadata": {
    "collapsed": false
   },
   "outputs": [],
   "source": [
    "mediana = numpy.mean(A, axis=0)\n",
    "#print(mediana)\n",
    "\n",
    "deviation = numpy.std(A, axis=0)\n",
    "#print(deviation)\n",
    "\n",
    "B = ((A - mediana)  / deviation)\n",
    "print(B)"
   ]
  },
  {
   "cell_type": "code",
   "execution_count": 0,
   "metadata": {
    "collapsed": false
   },
   "outputs": [],
   "source": [
    "Z = numpy.array([[4, 5, 0], \n",
    "                 [1, 9, 3],              \n",
    "                 [5, 1, 1],\n",
    "                 [3, 3, 3], \n",
    "                 [9, 9, 9], \n",
    "                 [4, 7, 1]])\n",
    "\n",
    "ZZ = numpy.sum(Z, axis=1)\n",
    "print(ZZ)\n",
    "\n",
    "rows_grater_10 = numpy.nonzero(ZZ > 10)\n",
    "print(rows_grater_10)"
   ]
  },
  {
   "cell_type": "code",
   "execution_count": 0,
   "metadata": {
    "collapsed": false
   },
   "outputs": [],
   "source": [
    "E1 = numpy.eye(3)\n",
    "E2 = numpy.eye(3)\n",
    "\n",
    "EE = numpy.vstack((E1, E2))\n",
    "print(EE)"
   ]
  }
 ],
 "metadata": {
  "kernelspec": {
   "display_name": "Python 3",
   "language": "python",
   "name": "python3"
  },
  "language_info": {
   "codemirror_mode": {
    "name": "ipython",
    "version": 3
   },
   "file_extension": ".py",
   "mimetype": "text/x-python",
   "name": "python",
   "nbconvert_exporter": "python",
   "pygments_lexer": "ipython3",
   "version": "3.5.1"
  }
 },
 "nbformat": 4,
 "nbformat_minor": 0
}