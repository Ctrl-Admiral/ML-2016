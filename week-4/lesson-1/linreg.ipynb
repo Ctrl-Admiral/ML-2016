{
 "cells": [
  {
   "cell_type": "code",
   "execution_count": 0,
   "metadata": {
    "collapsed": false
   },
   "outputs": [],
   "source": [
    "import pandas as pd\n",
    "\n",
    "data = pd.read_csv(open('salary-train.csv'))\n",
    "print(data.head())\n",
    "\n",
    "data_test = pd.read_csv(open('salary-test-mini.csv'))\n",
    "print(data_test.head())"
   ]
  },
  {
   "cell_type": "code",
   "execution_count": 0,
   "metadata": {
    "collapsed": false
   },
   "outputs": [],
   "source": [
    "data['FullDescription'] = data['FullDescription'].str.lower()\n",
    "data['FullDescription'] = data['FullDescription'].replace('[^a-zA-Z0-9]', ' ', regex = True)\n",
    "data['SalaryNormalized'] = data['SalaryNormalized'].astype(float)\n",
    "print(data.head())\n",
    "\n",
    "data_test['FullDescription'] = data_test['FullDescription'].str.lower()\n",
    "data_test['FullDescription'] = data_test['FullDescription'].replace('[^a-zA-Z0-9]', ' ', regex = True)\n",
    "data_test['SalaryNormalized'] = data_test['SalaryNormalized'].astype(float)\n",
    "print(data_test.head())"
   ]
  },
  {
   "cell_type": "code",
   "execution_count": 0,
   "metadata": {
    "collapsed": false
   },
   "outputs": [],
   "source": [
    "import sklearn\n",
    "from sklearn import cross_validation, svm, grid_search, feature_extraction\n",
    "\n",
    "\n",
    "tfidf = sklearn.feature_extraction.text.TfidfVectorizer(min_df=5)\n",
    "X_train_text = tfidf.fit_transform(data['FullDescription']).toarray()\n",
    "X_test_text = tfidf.transform(data_test['FullDescription']).toarray()\n",
    "\n",
    "print(X_train_text)"
   ]
  },
  {
   "cell_type": "code",
   "execution_count": 0,
   "metadata": {
    "collapsed": false,
    "scrolled": true
   },
   "outputs": [],
   "source": [
    "data['LocationNormalized'].fillna('nan', inplace=True)\n",
    "data['ContractTime'].fillna('nan', inplace=True)\n",
    "data_test['LocationNormalized'].fillna('nan', inplace=True)\n",
    "data_test['ContractTime'].fillna('nan', inplace=True)"
   ]
  },
  {
   "cell_type": "code",
   "execution_count": 0,
   "metadata": {
    "collapsed": false
   },
   "outputs": [],
   "source": [
    "from sklearn.feature_extraction import DictVectorizer\n",
    "\n",
    "enc = DictVectorizer()\n",
    "X_train_categ = enc.fit_transform(data[['LocationNormalized','ContractTime']].to_dict('records'))\n",
    "X_test_categ = enc.transform(data_test[['LocationNormalized','ContractTime']].to_dict('records'))\n",
    "print(X_train_categ)\n",
    "print(X_test_categ)"
   ]
  },
  {
   "cell_type": "code",
   "execution_count": 0,
   "metadata": {
    "collapsed": false
   },
   "outputs": [],
   "source": [
    "from scipy.sparse import hstack\n",
    "\n",
    "X_train = hstack([X_train_text,X_train_categ]).toarray()\n",
    "X_test = hstack([X_test_text,X_test_categ]).toarray()\n",
    "print(X_train)\n",
    "print(X_test)"
   ]
  },
  {
   "cell_type": "code",
   "execution_count": 0,
   "metadata": {
    "collapsed": false
   },
   "outputs": [],
   "source": [
    "from sklearn.linear_model import Ridge\n",
    "\n",
    "clf = Ridge(alpha=1.0)\n",
    "clf.fit(X_train, data['SalaryNormalized'])\n",
    "\n",
    "p = clf.predict(X_test)\n",
    "print(p)\n",
    "with open(\"linreg.1.txt\", \"w\") as file:\n",
    "  file.write(\"%.2f %.2f\" % (p[0],p[1]))"
   ]
  }
 ],
 "metadata": {
  "kernelspec": {
   "display_name": "Python 3",
   "language": "python",
   "name": "python3"
  },
  "language_info": {
   "codemirror_mode": {
    "name": "ipython",
    "version": 3
   },
   "file_extension": ".py",
   "mimetype": "text/x-python",
   "name": "python",
   "nbconvert_exporter": "python",
   "pygments_lexer": "ipython3",
   "version": "3.5.1"
  }
 },
 "nbformat": 4,
 "nbformat_minor": 0
}