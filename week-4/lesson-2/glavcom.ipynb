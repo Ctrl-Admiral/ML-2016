{
 "cells": [
  {
   "cell_type": "code",
   "execution_count": 0,
   "metadata": {
    "collapsed": false
   },
   "outputs": [],
   "source": [
    "import pandas as pd\n",
    "\n",
    "data = pd.read_csv(open('close_prices.csv'))\n",
    "X = data.ix[:,1:]\n",
    "y = data.ix[:,0]\n",
    "print(y)\n",
    "print(X.head())"
   ]
  },
  {
   "cell_type": "code",
   "execution_count": 0,
   "metadata": {
    "collapsed": false
   },
   "outputs": [],
   "source": [
    "from sklearn.decomposition import PCA\n",
    "\n",
    "pca = PCA(n_components=10)\n",
    "pca.fit_transform(X)\n",
    "\n",
    "sum_to_90 = 0\n",
    "count_to_90 = 0\n",
    "for p in pca.explained_variance_ratio_:\n",
    "    sum_to_90 += p\n",
    "    count_to_90 += 1\n",
    "    if sum_to_90 >= 0.9:\n",
    "        break\n",
    "    \n",
    "print(pca.explained_variance_ratio_)\n",
    "print(count_to_90)\n",
    "with open(\"glavcom.1.txt\", \"w\") as file:\n",
    "  file.write(\"%d\" % (count_to_90))"
   ]
  },
  {
   "cell_type": "code",
   "execution_count": 0,
   "metadata": {
    "collapsed": false
   },
   "outputs": [],
   "source": [
    "X_first = pca.transform(X)[:,0]\n",
    "#print(X_first)\n",
    "\n",
    "djia = pd.read_csv(open('djia_index.csv'))\n",
    "X_djia = djia.ix[:,1]\n",
    "#print(X_djia)\n",
    "\n",
    "import numpy as np\n",
    "\n",
    "cor = np.corrcoef(X_first, X_djia)\n",
    "print(cor[0,1])\n",
    "with open(\"glavcom.2.txt\", \"w\") as file:\n",
    "  file.write(\"%.2f\" % (cor[0,1]))"
   ]
  },
  {
   "cell_type": "code",
   "execution_count": 0,
   "metadata": {
    "collapsed": false
   },
   "outputs": [],
   "source": [
    "print(pca.components_[0])\n",
    "best = np.argsort(np.abs(pca.components_[0]))[-1]\n",
    "company = data.columns[best+1]\n",
    "\n",
    "print(company)\n",
    "with open(\"glavcom.3.txt\", \"w\") as file:\n",
    "  file.write(\"%s\" % (company))"
   ]
  }
 ],
 "metadata": {
  "kernelspec": {
   "display_name": "Python 3",
   "language": "python",
   "name": "python3"
  },
  "language_info": {
   "codemirror_mode": {
    "name": "ipython",
    "version": 3
   },
   "file_extension": ".py",
   "mimetype": "text/x-python",
   "name": "python",
   "nbconvert_exporter": "python",
   "pygments_lexer": "ipython3",
   "version": "3.5.1"
  }
 },
 "nbformat": 4,
 "nbformat_minor": 0
}