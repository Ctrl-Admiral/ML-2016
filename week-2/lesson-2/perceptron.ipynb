{
 "cells": [
  {
   "cell_type": "code",
   "execution_count": 0,
   "metadata": {
    "collapsed": false
   },
   "outputs": [],
   "source": [
    "import numpy as np\n",
    "import pandas as pd\n",
    "from sklearn.linear_model import Perceptron\n",
    "\n",
    "Xy_train = pd.read_csv(open('perceptron-train.csv'), header=None)\n",
    "X_train = Xy_train.ix[:,1:]\n",
    "y_train = Xy_train.ix[:,0]\n",
    "\n",
    "Xy_test = pd.read_csv(open('perceptron-test.csv'), header=None)\n",
    "X_test = Xy_test.ix[:,1:]\n",
    "y_test = Xy_test.ix[:,0]\n",
    "\n",
    "clf = Perceptron(random_state=241)\n",
    "clf.fit(X_train, y_train)\n",
    "predictions = clf.predict(X_test)\n",
    "acc = sklearn.metrics.accuracy_score(y_test, predictions)\n",
    "print(predictions)\n",
    "print(y_test.head())\n",
    "print(acc)"
   ]
  },
  {
   "cell_type": "code",
   "execution_count": 0,
   "metadata": {
    "collapsed": false
   },
   "outputs": [],
   "source": [
    "from sklearn.preprocessing import StandardScaler\n",
    "scaler = StandardScaler()\n",
    "X_train_scaled = scaler.fit_transform(X_train)\n",
    "X_test_scaled = scaler.transform(X_test)\n",
    "\n",
    "clf_scaled = Perceptron(random_state=241)\n",
    "clf_scaled.fit(X_train_scaled, y_train)\n",
    "predictions_scaled = clf_scaled.predict(X_test_scaled)\n",
    "acc_scaled = sklearn.metrics.accuracy_score(y_test, predictions_scaled)\n",
    "print(predictions_scaled)\n",
    "print(y_test.head())\n",
    "print(acc_scaled)"
   ]
  },
  {
   "cell_type": "code",
   "execution_count": 0,
   "metadata": {
    "collapsed": false
   },
   "outputs": [],
   "source": [
    "print(acc_scaled - acc)\n",
    "with open(\"perceptron.1.txt\", \"w\") as file:\n",
    "    file.write(\"%.3f\" % (acc_scaled - acc))"
   ]
  }
 ],
 "metadata": {
  "kernelspec": {
   "display_name": "Python 3",
   "language": "python",
   "name": "python3"
  },
  "language_info": {
   "codemirror_mode": {
    "name": "ipython",
    "version": 3
   },
   "file_extension": ".py",
   "mimetype": "text/x-python",
   "name": "python",
   "nbconvert_exporter": "python",
   "pygments_lexer": "ipython3",
   "version": "3.5.1"
  }
 },
 "nbformat": 4,
 "nbformat_minor": 0
}