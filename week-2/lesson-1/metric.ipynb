{
 "cells": [
  {
   "cell_type": "code",
   "execution_count": 0,
   "metadata": {
    "collapsed": false,
    "scrolled": true
   },
   "outputs": [],
   "source": [
    "import numpy as np\n",
    "import pandas as pd\n",
    "import sklearn\n",
    "\n",
    "boston = datasets.load_boston()\n",
    "#print(data)\n",
    "X = sklearn.preprocessing.scale(boston.data)\n",
    "y = boston.target\n",
    "print(boston.data)\n",
    "print(X)\n",
    "print(y)"
   ]
  },
  {
   "cell_type": "code",
   "execution_count": 0,
   "metadata": {
    "collapsed": false
   },
   "outputs": [],
   "source": [
    "import numpy as np\n",
    "import pandas as pd\n",
    "import sklearn\n",
    "\n",
    "kf = cross_validation.KFold(n=len(y), n_folds=5, shuffle=True, random_state=42)\n",
    "i = 1\n",
    "for t in np.linspace(1,10,num=200):\n",
    "  knr = sklearn.neighbors.KNeighborsRegressor(n_neighbors=5, weights='distance', metric='minkowski', p=t)\n",
    "  res = cross_validation.cross_val_score(knr, X=X, y=y, cv=kf, scoring='mean_squared_error')\n",
    "  print(i, res, np.average(res))\n",
    "  i = i + 1\n",
    "\n",
    "with open(\"metric.1.txt\", \"w\") as file:\n",
    "  file.write(\"1\")"
   ]
  },
  {
   "cell_type": "code",
   "execution_count": 0,
   "metadata": {
    "collapsed": false
   },
   "outputs": [],
   "source": []
  }
 ],
 "metadata": {
  "kernelspec": {
   "display_name": "Python 3",
   "language": "python",
   "name": "python3"
  },
  "language_info": {
   "codemirror_mode": {
    "name": "ipython",
    "version": 3
   },
   "file_extension": ".py",
   "mimetype": "text/x-python",
   "name": "python",
   "nbconvert_exporter": "python",
   "pygments_lexer": "ipython3",
   "version": "3.5.1"
  }
 },
 "nbformat": 4,
 "nbformat_minor": 0
}