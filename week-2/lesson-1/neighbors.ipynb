{
 "cells": [
  {
   "cell_type": "code",
   "execution_count": 0,
   "metadata": {
    "collapsed": false,
    "scrolled": true
   },
   "outputs": [],
   "source": [
    "import pandas as pd\n",
    "from sklearn import cross_validation, datasets\n",
    "from sklearn.neighbors import KNeighborsClassifier\n",
    "data = pd.read_csv(open('Wine.data.txt'))\n",
    "X = data.ix[:,1:]\n",
    "y = data.ix[:,0]\n",
    "print(data.head())\n",
    "print(X.head())\n",
    "print(y.head())"
   ]
  },
  {
   "cell_type": "code",
   "execution_count": 0,
   "metadata": {
    "collapsed": false
   },
   "outputs": [],
   "source": [
    "import numpy as np\n",
    "from sklearn import neighbors, svm\n",
    "kf = cross_validation.KFold(n=len(y), n_folds=5, shuffle=True, random_state=42)\n",
    "#svc = svm.SVC(kernel='linear')\n",
    "for t in range(1,51):\n",
    "  knn = neighbors.KNeighborsClassifier(n_neighbors=t)\n",
    "  res = cross_validation.cross_val_score(knn, X=X, y=y, cv=kf, scoring='accuracy')\n",
    "  print(t, res, np.average(res))\n",
    "\n",
    "with open(\"neighbors.1.txt\", \"w\") as file:\n",
    "    file.write(\"1\")\n",
    "    \n",
    "with open(\"neighbors.2.txt\", \"w\") as file:\n",
    "    file.write(\"0.74\")"
   ]
  },
  {
   "cell_type": "code",
   "execution_count": 0,
   "metadata": {
    "collapsed": false
   },
   "outputs": [],
   "source": [
    "X = sklearn.preprocessing.scale(X)\n",
    "for t in range(1,51):\n",
    "  knn = neighbors.KNeighborsClassifier(n_neighbors=t)\n",
    "  res = cross_validation.cross_val_score(X=X, y=y, cv=kf, estimator=knn, scoring='accuracy')\n",
    "  print(t, res, np.average(res))\n",
    "\n",
    "with open(\"neighbors.3.txt\", \"w\") as file:\n",
    "    file.write(\"28\")\n",
    "    \n",
    "with open(\"neighbors.4.txt\", \"w\") as file:\n",
    "    file.write(\"0.98\")"
   ]
  }
 ],
 "metadata": {
  "kernelspec": {
   "display_name": "Python 3",
   "language": "python",
   "name": "python3"
  },
  "language_info": {
   "codemirror_mode": {
    "name": "ipython",
    "version": 3
   },
   "file_extension": ".py",
   "mimetype": "text/x-python",
   "name": "python",
   "nbconvert_exporter": "python",
   "pygments_lexer": "ipython3",
   "version": "3.5.1"
  }
 },
 "nbformat": 4,
 "nbformat_minor": 0
}