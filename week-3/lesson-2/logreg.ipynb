{
 "cells": [
  {
   "cell_type": "code",
   "execution_count": 0,
   "metadata": {
    "collapsed": false
   },
   "outputs": [],
   "source": [
    "import numpy as np\n",
    "import pandas as pd\n",
    "import sklearn\n",
    "\n",
    "data = pd.read_csv(open('data-logistic.csv'), header=None)\n",
    "X = data.ix[:,1:]\n",
    "y = data.ix[:,0]\n",
    "print(data)\n",
    "print(X)\n",
    "print(y)"
   ]
  },
  {
   "cell_type": "code",
   "execution_count": 0,
   "metadata": {
    "collapsed": false
   },
   "outputs": [],
   "source": [
    "import math\n",
    "\n",
    "def grad(X,y,w1,w2,k,C,should_regularize):\n",
    "    _w1 = 0\n",
    "    _w2 = 0\n",
    "    for i in range(0,y.size):\n",
    "        _w1 += y.loc[i]*X.loc[i,1]*(1 - 1/(1 + math.exp(-y.loc[i]*(w1*X.loc[i,1] + w2*X.loc[i,2]))))\n",
    "        _w2 += y.loc[i]*X.loc[i,2]*(1 - 1/(1 + math.exp(-y.loc[i]*(w1*X.loc[i,1] + w2*X.loc[i,2]))))\n",
    "    _w1 = w1 + _w1*k/y.size - should_regularize*k*C*w1\n",
    "    _w2 = w2 + _w2*k/y.size - should_regularize*k*C*w2\n",
    "    return (_w1,_w2)\n",
    "    \n",
    "w1 = 0\n",
    "w2 = 0\n",
    "prev_w1 = 1\n",
    "prev_w2 = 1\n",
    "iteration = 0\n",
    "print(\"With regularization:\")\n",
    "while (iteration < 10000 and math.sqrt((prev_w1-w1)*(prev_w1-w1) + (prev_w2-w2)*(prev_w2-w2)) > 1e-5):\n",
    "    (prev_w1,prev_w2) = (w1,w2)\n",
    "    (w1,w2) = grad(X,y,w1,w2,0.1,10,1)\n",
    "    iteration += 1\n",
    "    print((iteration,w1,w2))\n",
    "    \n",
    "    \n",
    "rw1 = 0\n",
    "rw2 = 0\n",
    "prev_rw1 = 1\n",
    "prev_rw2 = 1\n",
    "iteration = 0\n",
    "print(\"Without regularization:\")\n",
    "while (iteration < 10000 and math.sqrt((prev_rw1-rw1)*(prev_rw1-rw1) + (prev_rw2-rw2)*(prev_rw2-rw2)) > 1e-5):\n",
    "    (prev_rw1,prev_rw2) = (rw1,rw2)\n",
    "    (rw1,rw2) = grad(X,y,rw1,rw2,0.1,10,0)\n",
    "    iteration += 1\n",
    "    print((iteration,rw1,rw2))"
   ]
  },
  {
   "cell_type": "code",
   "execution_count": 0,
   "metadata": {
    "collapsed": false
   },
   "outputs": [],
   "source": [
    "from sklearn.metrics import roc_auc_score\n",
    "\n",
    "#a(x) = 1 / (1 + exp(-w1 x1 - w2 x2)).\n",
    "a = 1/(1 + np.exp(-w1*X[X.columns[0]] - w2*X[X.columns[1]]))\n",
    "value = roc_auc_score(y, a)\n",
    "print(value)\n",
    "\n",
    "ra = 1/(1 + np.exp(-rw1*X[X.columns[0]] - rw2*X[X.columns[1]]))\n",
    "rvalue = roc_auc_score(y, ra)\n",
    "print(rvalue)\n",
    "\n",
    "with open(\"logreg.1.txt\", \"w\") as file:\n",
    "    file.write(\"%.3f %.3f\" % (rvalue,value))"
   ]
  }
 ],
 "metadata": {
  "kernelspec": {
   "display_name": "Python 3",
   "language": "python",
   "name": "python3"
  },
  "language_info": {
   "codemirror_mode": {
    "name": "ipython",
    "version": 3
   },
   "file_extension": ".py",
   "mimetype": "text/x-python",
   "name": "python",
   "nbconvert_exporter": "python",
   "pygments_lexer": "ipython3",
   "version": "3.5.1"
  }
 },
 "nbformat": 4,
 "nbformat_minor": 0
}