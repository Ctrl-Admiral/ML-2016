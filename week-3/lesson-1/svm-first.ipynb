{
 "cells": [
  {
   "cell_type": "code",
   "execution_count": 0,
   "metadata": {
    "collapsed": false,
    "scrolled": true
   },
   "outputs": [],
   "source": [
    "import numpy as np\n",
    "import pandas as pd\n",
    "import sklearn\n",
    "\n",
    "data = pd.read_csv(open('svm-data.csv'), header=None)\n",
    "X = data.ix[:,1:]\n",
    "y = data.ix[:,0]\n",
    "print(data)\n",
    "print(X)\n",
    "print(y)"
   ]
  },
  {
   "cell_type": "code",
   "execution_count": 0,
   "metadata": {
    "collapsed": false
   },
   "outputs": [],
   "source": [
    "from sklearn.svm import SVC\n",
    "\n",
    "svc = SVC(C=100000, random_state=241, kernel='linear')\n",
    "svc.fit(X, y)\n",
    "\n",
    "print(' '.join(map(str,svc.support_+1)))\n",
    "with open(\"svm-first.1.txt\", \"w\") as file:\n",
    "    file.write(' '.join(map(str,svc.support_+1)))\n",
    "\n",
    "#with open(\"svm-1.1.txt\", \"w\") as file:\n",
    "#  for i in range(0,len(svc.support_)):\n",
    "#    file.write(\"%d\" % (svc.support_[i]+1))\n",
    "#    print(svc.support_[i]+1)\n",
    "#    if (i + 1 < len(svc.support_)):\n",
    "#      file.write(\" \")\n",
    "#      print(\" \")"
   ]
  },
  {
   "cell_type": "code",
   "execution_count": 0,
   "metadata": {
    "collapsed": false
   },
   "outputs": [],
   "source": []
  }
 ],
 "metadata": {
  "kernelspec": {
   "display_name": "Python 3",
   "language": "python",
   "name": "python3"
  },
  "language_info": {
   "codemirror_mode": {
    "name": "ipython",
    "version": 3
   },
   "file_extension": ".py",
   "mimetype": "text/x-python",
   "name": "python",
   "nbconvert_exporter": "python",
   "pygments_lexer": "ipython3",
   "version": "3.5.1"
  }
 },
 "nbformat": 4,
 "nbformat_minor": 0
}