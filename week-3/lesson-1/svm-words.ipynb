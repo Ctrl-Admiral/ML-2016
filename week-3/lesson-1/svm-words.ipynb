{
 "cells": [
  {
   "cell_type": "code",
   "execution_count": 0,
   "metadata": {
    "collapsed": false,
    "scrolled": true
   },
   "outputs": [],
   "source": [
    "import numpy as np\n",
    "import pandas as pd\n",
    "import sklearn\n",
    "from sklearn import datasets\n",
    "\n",
    "newsgroups = datasets.fetch_20newsgroups(\n",
    "                subset='all', \n",
    "                categories=['alt.atheism', 'sci.space']\n",
    "             )"
   ]
  },
  {
   "cell_type": "code",
   "execution_count": 0,
   "metadata": {
    "collapsed": false,
    "scrolled": false
   },
   "outputs": [],
   "source": [
    "import sklearn\n",
    "from sklearn import cross_validation, svm, grid_search\n",
    "\n",
    "tfidf = sklearn.feature_extraction.text.TfidfVectorizer()\n",
    "X = tfidf.fit_transform(newsgroups.data)\n",
    "y = newsgroups.target\n",
    "\n",
    "grid = {'C': np.power(10.0, np.arange(-5, 6))}\n",
    "cv = cross_validation.KFold(len(y), n_folds=5, shuffle=True, random_state=241)\n",
    "clf = svm.SVC(kernel='linear', random_state=241)\n",
    "gs = grid_search.GridSearchCV(clf, grid, scoring='accuracy', cv=cv)\n",
    "gs.fit(X, y)\n",
    "\n",
    "for a in gs.grid_scores_:\n",
    "  print(\"%f for \" % a.mean_validation_score + str(a.parameters))\n",
    "    \n",
    "print(\"Best: \", gs.best_params_)"
   ]
  },
  {
   "cell_type": "code",
   "execution_count": 0,
   "metadata": {
    "collapsed": false
   },
   "outputs": [],
   "source": [
    "from sklearn.svm import SVC\n",
    "\n",
    "svc = SVC(C=gs.best_params_['C'], random_state=241, kernel='linear')\n",
    "svc.fit(X, y)\n",
    "\n",
    "indexes = np.argsort(np.abs(svc.coef_.toarray()[0]))[-10:]\n",
    "print(indexes)\n",
    "words = np.array(tfidf.get_feature_names())\n",
    "print(words[indexes])\n",
    "\n",
    "print(' '.join(np.sort(words[indexes])))\n",
    "with open(\"svm-words.1.txt\", \"w\") as file:\n",
    "  file.write(' '.join(np.sort(words[indexes])))"
   ]
  }
 ],
 "metadata": {
  "kernelspec": {
   "display_name": "Python 3",
   "language": "python",
   "name": "python3"
  },
  "language_info": {
   "codemirror_mode": {
    "name": "ipython",
    "version": 3
   },
   "file_extension": ".py",
   "mimetype": "text/x-python",
   "name": "python",
   "nbconvert_exporter": "python",
   "pygments_lexer": "ipython3",
   "version": "3.5.1"
  }
 },
 "nbformat": 4,
 "nbformat_minor": 0
}